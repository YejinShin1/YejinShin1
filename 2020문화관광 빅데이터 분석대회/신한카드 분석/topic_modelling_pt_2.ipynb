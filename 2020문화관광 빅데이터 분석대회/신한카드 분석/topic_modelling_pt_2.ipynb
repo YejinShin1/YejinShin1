{
  "nbformat": 4,
  "nbformat_minor": 0,
  "metadata": {
    "colab": {
      "name": "topic_modelling_pt_2.ipynb의 사본",
      "provenance": [],
      "collapsed_sections": [],
      "include_colab_link": true
    },
    "kernelspec": {
      "name": "python3",
      "display_name": "Python 3"
    }
  },
  "cells": [
    {
      "cell_type": "markdown",
      "metadata": {
        "id": "view-in-github",
        "colab_type": "text"
      },
      "source": [
        "<a href=\"https://colab.research.google.com/github/YejinShin1/god_yes_jeans/blob/master/topic_modelling_pt_2.ipynb\" target=\"_parent\"><img src=\"https://colab.research.google.com/assets/colab-badge.svg\" alt=\"Open In Colab\"/></a>"
      ]
    },
    {
      "cell_type": "code",
      "metadata": {
        "id": "y90ASmnADw8j"
      },
      "source": [
        "import os \n",
        "import pandas as pd \n",
        "import gensim\n",
        "from gensim.models.word2vec import Word2Vec\n",
        "from gensim.models import CoherenceModel\n",
        "from gensim import corpora, models\n",
        "import numpy as np\n",
        "import matplotlib.pyplot as plt\n",
        "from sklearn.decomposition import TruncatedSVD\n",
        "from sklearn.decomposition import PCA"
      ],
      "execution_count": null,
      "outputs": []
    },
    {
      "cell_type": "code",
      "metadata": {
        "id": "lI4R15VrEyTQ",
        "colab": {
          "base_uri": "https://localhost:8080/",
          "height": 34
        },
        "outputId": "0caf541a-2a33-4a63-8e9a-033c6f0fa591"
      },
      "source": [
        "file_name = os.listdir('./')\n",
        "file_name"
      ],
      "execution_count": null,
      "outputs": [
        {
          "output_type": "execute_result",
          "data": {
            "text/plain": [
              "['.config', 'sample_data']"
            ]
          },
          "metadata": {
            "tags": []
          },
          "execution_count": 2
        }
      ]
    },
    {
      "cell_type": "code",
      "metadata": {
        "id": "B2tXuAvBE3Y6",
        "colab": {
          "base_uri": "https://localhost:8080/",
          "height": 195
        },
        "outputId": "cefa7428-40f1-46c0-fbe2-612d2ec09043"
      },
      "source": [
        "df = pd.read_excel('KCTI_NATIVE_2020.xlsx')\n",
        "df.head()"
      ],
      "execution_count": null,
      "outputs": [
        {
          "output_type": "execute_result",
          "data": {
            "text/html": [
              "<div>\n",
              "<style scoped>\n",
              "    .dataframe tbody tr th:only-of-type {\n",
              "        vertical-align: middle;\n",
              "    }\n",
              "\n",
              "    .dataframe tbody tr th {\n",
              "        vertical-align: top;\n",
              "    }\n",
              "\n",
              "    .dataframe thead th {\n",
              "        text-align: right;\n",
              "    }\n",
              "</style>\n",
              "<table border=\"1\" class=\"dataframe\">\n",
              "  <thead>\n",
              "    <tr style=\"text-align: right;\">\n",
              "      <th></th>\n",
              "      <th>v1</th>\n",
              "      <th>v2</th>\n",
              "      <th>v3</th>\n",
              "      <th>gb3</th>\n",
              "      <th>gb2</th>\n",
              "      <th>sex_ccd</th>\n",
              "      <th>cln_age_r</th>\n",
              "      <th>ta_ym</th>\n",
              "      <th>daw_ccd_r</th>\n",
              "      <th>apv_ts_dl_tm_r</th>\n",
              "      <th>vlm</th>\n",
              "      <th>usec</th>\n",
              "    </tr>\n",
              "  </thead>\n",
              "  <tbody>\n",
              "    <tr>\n",
              "      <th>0</th>\n",
              "      <td>경기</td>\n",
              "      <td>세종</td>\n",
              "      <td>.</td>\n",
              "      <td>취미오락</td>\n",
              "      <td>유흥</td>\n",
              "      <td>M</td>\n",
              "      <td>40</td>\n",
              "      <td>202001</td>\n",
              "      <td>RED</td>\n",
              "      <td>휴식</td>\n",
              "      <td>6410700</td>\n",
              "      <td>45</td>\n",
              "    </tr>\n",
              "    <tr>\n",
              "      <th>1</th>\n",
              "      <td>경남</td>\n",
              "      <td>세종</td>\n",
              "      <td>.</td>\n",
              "      <td>스포츠활동</td>\n",
              "      <td>레저스포츠</td>\n",
              "      <td>M</td>\n",
              "      <td>30</td>\n",
              "      <td>202001</td>\n",
              "      <td>RED</td>\n",
              "      <td>활동</td>\n",
              "      <td>147900</td>\n",
              "      <td>15</td>\n",
              "    </tr>\n",
              "    <tr>\n",
              "      <th>2</th>\n",
              "      <td>광주</td>\n",
              "      <td>세종</td>\n",
              "      <td>.</td>\n",
              "      <td>취미오락</td>\n",
              "      <td>패션쇼핑</td>\n",
              "      <td>M</td>\n",
              "      <td>30</td>\n",
              "      <td>202001</td>\n",
              "      <td>RED</td>\n",
              "      <td>휴식</td>\n",
              "      <td>793050</td>\n",
              "      <td>5</td>\n",
              "    </tr>\n",
              "    <tr>\n",
              "      <th>3</th>\n",
              "      <td>인천</td>\n",
              "      <td>세종</td>\n",
              "      <td>.</td>\n",
              "      <td>취미오락</td>\n",
              "      <td>인터넷게임</td>\n",
              "      <td>M</td>\n",
              "      <td>30</td>\n",
              "      <td>202001</td>\n",
              "      <td>RED</td>\n",
              "      <td>취침</td>\n",
              "      <td>10200</td>\n",
              "      <td>10</td>\n",
              "    </tr>\n",
              "    <tr>\n",
              "      <th>4</th>\n",
              "      <td>경기</td>\n",
              "      <td>세종</td>\n",
              "      <td>.</td>\n",
              "      <td>취미오락</td>\n",
              "      <td>유흥</td>\n",
              "      <td>M</td>\n",
              "      <td>40</td>\n",
              "      <td>202001</td>\n",
              "      <td>RED</td>\n",
              "      <td>취침</td>\n",
              "      <td>382500</td>\n",
              "      <td>5</td>\n",
              "    </tr>\n",
              "  </tbody>\n",
              "</table>\n",
              "</div>"
            ],
            "text/plain": [
              "   v1  v2 v3    gb3    gb2  ...   ta_ym  daw_ccd_r  apv_ts_dl_tm_r      vlm usec\n",
              "0  경기  세종  .   취미오락     유흥  ...  202001        RED              휴식  6410700   45\n",
              "1  경남  세종  .  스포츠활동  레저스포츠  ...  202001        RED              활동   147900   15\n",
              "2  광주  세종  .   취미오락   패션쇼핑  ...  202001        RED              휴식   793050    5\n",
              "3  인천  세종  .   취미오락  인터넷게임  ...  202001        RED              취침    10200   10\n",
              "4  경기  세종  .   취미오락     유흥  ...  202001        RED              취침   382500    5\n",
              "\n",
              "[5 rows x 12 columns]"
            ]
          },
          "metadata": {
            "tags": []
          },
          "execution_count": 4
        }
      ]
    },
    {
      "cell_type": "code",
      "metadata": {
        "id": "9MtGms_UiY2I"
      },
      "source": [
        "after_covid = df[df['ta_ym'] == 202002]"
      ],
      "execution_count": null,
      "outputs": []
    },
    {
      "cell_type": "code",
      "metadata": {
        "id": "vqsOih45E_BQ"
      },
      "source": [
        "a_v1 = after_covid['v1'].tolist()\n",
        "a_v2 = after_covid['v2'].tolist()\n",
        "#v3 = df['v3'].tolist()\n",
        "a_gb3 = after_covid['gb3'].tolist()\n",
        "a_gb2 = after_covid['gb2'].tolist()\n",
        "a_sex_ccd = after_covid['sex_ccd'].tolist()\n",
        "a_cln_age_r = after_covid['cln_age_r'].tolist()\n",
        "a_ta_ym = after_covid['ta_ym'].tolist()\n",
        "a_daw_ccd_r = after_covid['daw_ccd_r'].tolist()\n",
        "a_apv_ts_dl_tm_r = after_covid['apv_ts_dl_tm_r'].tolist()\n",
        "\n",
        "a_cln_age_r = [str(age) for age in a_cln_age_r]\n",
        "a_ta_ym = [str(ym) for ym in a_ta_ym]\n",
        "\n",
        "a_v1 = [city + str(\"_거주지\") for city in a_v1]\n",
        "a_v2 = [city + str(\"_사용장소\") for city in a_v2]"
      ],
      "execution_count": null,
      "outputs": []
    },
    {
      "cell_type": "code",
      "metadata": {
        "id": "5_G9lQ7w-wrY",
        "colab": {
          "base_uri": "https://localhost:8080/",
          "height": 193
        },
        "outputId": "c8443859-f8fe-4566-bd58-574b9e4ce6eb"
      },
      "source": [
        "a_list = list(zip(a_v1, a_v2, a_gb3, a_gb2, a_sex_ccd, a_cln_age_r, a_ta_ym, a_daw_ccd_r, a_apv_ts_dl_tm_r))\n",
        "a_list = [list(customer) for customer in a_list]\n",
        "a_list[:10]"
      ],
      "execution_count": null,
      "outputs": [
        {
          "output_type": "execute_result",
          "data": {
            "text/plain": [
              "[['세종_거주지', '세종_사용장소', '취미오락', '외식', 'M', '30', '202002', 'RED', '휴식'],\n",
              " ['세종_거주지', '세종_사용장소', '취미오락', '외식', 'F', '20', '202002', 'RED', '활동'],\n",
              " ['충북_거주지', '세종_사용장소', '취미오락', '외식', 'M', '50', '202002', 'WHITE', '활동'],\n",
              " ['경기_거주지', '세종_사용장소', '취미오락', '외식', 'F', '60', '202002', 'WHITE', '휴식'],\n",
              " ['세종_거주지', '세종_사용장소', '취미오락', '애완동물돌보기', 'M', '50', '202002', 'WHITE', '활동'],\n",
              " ['충남_거주지', '세종_사용장소', '취미오락', '외식', 'F', '40', '202002', 'WHITE', '활동'],\n",
              " ['전남_거주지', '세종_사용장소', '취미오락', '종합쇼핑', 'M', '30', '202002', 'RED', '활동'],\n",
              " ['전북_거주지', '세종_사용장소', '취미오락', '종합쇼핑', 'F', '50', '202002', 'WHITE', '활동'],\n",
              " ['대전_거주지', '세종_사용장소', '취미오락', '교육훈련', 'F', '40', '202002', 'WHITE', '활동'],\n",
              " ['전북_거주지', '세종_사용장소', '취미오락', '외식', 'F', '50', '202002', 'WHITE', '활동']]"
            ]
          },
          "metadata": {
            "tags": []
          },
          "execution_count": 8
        }
      ]
    },
    {
      "cell_type": "code",
      "metadata": {
        "id": "6MokshGiiryc",
        "colab": {
          "base_uri": "https://localhost:8080/",
          "height": 52
        },
        "outputId": "4e40bcf9-0d02-454c-e750-2a4f5fb4bba6"
      },
      "source": [
        "a_dictionary = corpora.Dictionary(a_list)\n",
        "a_corpus = [a_dictionary.doc2bow(text) for text in a_list]\n",
        "\n",
        "print('Number of unique tokens: %d' % len(a_dictionary))\n",
        "print('Number of documents: %d' % len(a_corpus))"
      ],
      "execution_count": null,
      "outputs": [
        {
          "output_type": "stream",
          "text": [
            "Number of unique tokens: 78\n",
            "Number of documents: 33172\n"
          ],
          "name": "stdout"
        }
      ]
    },
    {
      "cell_type": "code",
      "metadata": {
        "id": "OhxZJ7gJlf-5",
        "colab": {
          "base_uri": "https://localhost:8080/",
          "height": 34
        },
        "outputId": "b93f9352-7ca8-4cf4-884d-29f214715864"
      },
      "source": [
        "a_ldamodel.log_perplexity(a_corpus)"
      ],
      "execution_count": null,
      "outputs": [
        {
          "output_type": "execute_result",
          "data": {
            "text/plain": [
              "-3.819815745221268"
            ]
          },
          "metadata": {
            "tags": []
          },
          "execution_count": 22
        }
      ]
    },
    {
      "cell_type": "code",
      "metadata": {
        "id": "jnrdZEY-lzgX"
      },
      "source": [
        "start1 = 2\n",
        "limit1 = 40\n",
        "step1 = 6\n",
        "a_perplexity_scores=[]\n",
        "for num_topics in range(start1, limit1, step1):\n",
        "    model = models.ldamodel.LdaModel(a_corpus, num_topics=num_topics,\n",
        "                    id2word=a_dictionary,\n",
        "                    alpha='auto')\n",
        "    a_perplexity_scores.append(a_ldamodel.log_perplexity(a_corpus))"
      ],
      "execution_count": null,
      "outputs": []
    },
    {
      "cell_type": "code",
      "metadata": {
        "id": "xCh2SxHAm3PE",
        "colab": {
          "base_uri": "https://localhost:8080/",
          "height": 140
        },
        "outputId": "0408fe6f-5c6f-4024-c017-9554b7d80ce4"
      },
      "source": [
        "a_perplexity_scores "
      ],
      "execution_count": null,
      "outputs": [
        {
          "output_type": "execute_result",
          "data": {
            "text/plain": [
              "[-3.819991581427346,\n",
              " -3.8196996870155107,\n",
              " -3.81969616319685,\n",
              " -3.8198535794572086,\n",
              " -3.8197434905659455,\n",
              " -3.819883404689855,\n",
              " -3.819832858509224]"
            ]
          },
          "metadata": {
            "tags": []
          },
          "execution_count": 25
        }
      ]
    },
    {
      "cell_type": "code",
      "metadata": {
        "id": "DKCfqti4m6V5",
        "colab": {
          "base_uri": "https://localhost:8080/",
          "height": 290
        },
        "outputId": "c6cb2f08-69e3-4bee-e364-615d50ea20e0"
      },
      "source": [
        "import matplotlib.pyplot as plt\n",
        "x = range(start1, limit1, step1)\n",
        "plt.plot(x, a_perplexity_scores)\n",
        "plt.xlabel(\"Num Topics\")\n",
        "plt.ylabel(\"Log Perplexity scores of Amid_Covid Data\")\n",
        "plt.legend((\"Log Perplexity\"), loc='best')\n",
        "plt.show()"
      ],
      "execution_count": null,
      "outputs": [
        {
          "output_type": "display_data",
          "data": {
            "image/png": "[encoded data removed]",
            "text/plain": [
              "<Figure size 432x288 with 1 Axes>"
            ]
          },
          "metadata": {
            "tags": [],
            "needs_background": "light"
          }
        }
      ]
    },
    {
      "cell_type": "code",
      "metadata": {
        "id": "I6w9AjxvkYAD",
        "colab": {
          "base_uri": "https://localhost:8080/",
          "height": 741
        },
        "outputId": "58576f53-e8ac-4c4d-bb0c-375d7997b7e7"
      },
      "source": [
        "a_ldamodel = models.ldamodel.LdaModel(a_corpus, num_topics=20,\n",
        "                        id2word=a_dictionary,\n",
        "                        alpha='auto')\n",
        "a_ldamodel.print_topics(num_words=20)"
      ],
      "execution_count": null,
      "outputs": [
        {
          "output_type": "execute_result",
          "data": {
            "text/plain": [
              "[(0,\n",
              "  '0.225*\"취침\" + 0.112*\"202002\" + 0.108*\"취미오락\" + 0.088*\"F\" + 0.072*\"RED\" + 0.067*\"서울_사용장소\" + 0.067*\"외식\" + 0.052*\"20\" + 0.045*\"50\" + 0.040*\"WHITE\" + 0.034*\"경기_거주지\" + 0.026*\"유흥\" + 0.021*\"M\" + 0.011*\"경기_사용장소\" + 0.009*\"충북_거주지\" + 0.007*\"휴식\" + 0.005*\"60\" + 0.003*\"활동\" + 0.003*\"40\" + 0.002*\"강원_거주지\"'),\n",
              " (1,\n",
              "  '0.184*\"인천_거주지\" + 0.111*\"202002\" + 0.102*\"경기_사용장소\" + 0.101*\"취미오락\" + 0.084*\"활동\" + 0.076*\"RED\" + 0.070*\"M\" + 0.070*\"60\" + 0.047*\"F\" + 0.045*\"외식\" + 0.039*\"WHITE\" + 0.022*\"20\" + 0.014*\"50\" + 0.012*\"종합쇼핑\" + 0.006*\"30\" + 0.006*\"취침\" + 0.004*\"40\" + 0.001*\"인천_사용장소\" + 0.001*\"경북_사용장소\" + 0.001*\"휴식\"'),\n",
              " (2,\n",
              "  '0.214*\"대전_거주지\" + 0.124*\"대전_사용장소\" + 0.106*\"202002\" + 0.078*\"취미오락\" + 0.074*\"WHITE\" + 0.065*\"M\" + 0.055*\"휴식\" + 0.048*\"F\" + 0.046*\"30\" + 0.040*\"RED\" + 0.034*\"활동\" + 0.027*\"20\" + 0.027*\"세종_사용장소\" + 0.023*\"외식\" + 0.016*\"40\" + 0.007*\"50\" + 0.002*\"종합쇼핑\" + 0.002*\"60\" + 0.002*\"인터넷게임\" + 0.002*\"대구_거주지\"'),\n",
              " (3,\n",
              "  '0.216*\"종합쇼핑\" + 0.131*\"취미오락\" + 0.116*\"202002\" + 0.075*\"F\" + 0.073*\"WHITE\" + 0.055*\"40\" + 0.055*\"휴식\" + 0.048*\"RED\" + 0.046*\"활동\" + 0.038*\"M\" + 0.031*\"60\" + 0.022*\"서울_사용장소\" + 0.020*\"30\" + 0.013*\"제주_거주지\" + 0.010*\"울산_거주지\" + 0.010*\"20\" + 0.009*\"전북_거주지\" + 0.008*\"취침\" + 0.005*\"경기_사용장소\" + 0.005*\"경기_거주지\"'),\n",
              " (4,\n",
              "  '0.201*\"경북_사용장소\" + 0.166*\"경북_거주지\" + 0.105*\"202002\" + 0.078*\"WHITE\" + 0.072*\"F\" + 0.069*\"취미오락\" + 0.050*\"활동\" + 0.043*\"휴식\" + 0.035*\"RED\" + 0.030*\"20\" + 0.027*\"M\" + 0.025*\"30\" + 0.022*\"40\" + 0.016*\"50\" + 0.013*\"60\" + 0.013*\"종합쇼핑\" + 0.013*\"외식\" + 0.013*\"음악감상\" + 0.006*\"서울_사용장소\" + 0.001*\"인천_거주지\"'),\n",
              " (5,\n",
              "  '0.112*\"취미오락\" + 0.111*\"202002\" + 0.109*\"M\" + 0.089*\"대구_거주지\" + 0.088*\"RED\" + 0.085*\"목욕\" + 0.074*\"유흥\" + 0.063*\"휴식\" + 0.058*\"대구_사용장소\" + 0.035*\"30\" + 0.027*\"활동\" + 0.023*\"60\" + 0.022*\"40\" + 0.021*\"20\" + 0.019*\"서울_사용장소\" + 0.015*\"50\" + 0.013*\"경기_사용장소\" + 0.010*\"취침\" + 0.009*\"경기_거주지\" + 0.008*\"WHITE\"'),\n",
              " (6,\n",
              "  '0.176*\"경남_거주지\" + 0.175*\"경남_사용장소\" + 0.107*\"202002\" + 0.092*\"M\" + 0.083*\"취미오락\" + 0.060*\"WHITE\" + 0.057*\"휴식\" + 0.051*\"RED\" + 0.043*\"외식\" + 0.042*\"40\" + 0.035*\"활동\" + 0.026*\"20\" + 0.021*\"60\" + 0.009*\"50\" + 0.006*\"경기_사용장소\" + 0.004*\"30\" + 0.003*\"경북_사용장소\" + 0.002*\"F\" + 0.001*\"서울_사용장소\" + 0.001*\"경북_거주지\"'),\n",
              " (7,\n",
              "  '0.180*\"스포츠활동\" + 0.117*\"202002\" + 0.093*\"M\" + 0.068*\"WHITE\" + 0.063*\"활동\" + 0.057*\"레저스포츠\" + 0.050*\"RED\" + 0.045*\"스포츠용품구매\" + 0.045*\"휴식\" + 0.039*\"골프\" + 0.034*\"40\" + 0.030*\"헬스\" + 0.029*\"50\" + 0.024*\"20\" + 0.022*\"경기_거주지\" + 0.021*\"30\" + 0.020*\"서울_사용장소\" + 0.016*\"경기_사용장소\" + 0.009*\"60\" + 0.008*\"강원_사용장소\"'),\n",
              " (8,\n",
              "  '0.144*\"패션쇼핑\" + 0.131*\"인천_사용장소\" + 0.106*\"WHITE\" + 0.102*\"202002\" + 0.090*\"F\" + 0.086*\"활동\" + 0.067*\"40\" + 0.052*\"교육훈련\" + 0.048*\"취미오락\" + 0.033*\"휴식\" + 0.029*\"문화예술활동\" + 0.024*\"미술공예참여\" + 0.017*\"30\" + 0.017*\"인천_거주지\" + 0.014*\"60\" + 0.013*\"M\" + 0.008*\"대구_거주지\" + 0.006*\"대구_사용장소\" + 0.006*\"공연관람\" + 0.004*\"악기연주\"'),\n",
              " (9,\n",
              "  '0.124*\"부산_사용장소\" + 0.107*\"202002\" + 0.102*\"부산_거주지\" + 0.079*\"취미오락\" + 0.074*\"전북_사용장소\" + 0.073*\"활동\" + 0.070*\"F\" + 0.068*\"WHITE\" + 0.045*\"M\" + 0.043*\"RED\" + 0.039*\"애완동물돌보기\" + 0.031*\"30\" + 0.028*\"휴식\" + 0.028*\"40\" + 0.027*\"20\" + 0.016*\"50\" + 0.015*\"외식\" + 0.010*\"전북_거주지\" + 0.007*\"경기_거주지\" + 0.006*\"60\"'),\n",
              " (10,\n",
              "  '0.163*\"여행\" + 0.117*\"202002\" + 0.107*\"숙박\" + 0.078*\"M\" + 0.067*\"WHITE\" + 0.061*\"활동\" + 0.050*\"RED\" + 0.038*\"F\" + 0.038*\"휴식\" + 0.030*\"40\" + 0.027*\"50\" + 0.024*\"체험\" + 0.024*\"30\" + 0.021*\"20\" + 0.020*\"서울_사용장소\" + 0.016*\"경기_거주지\" + 0.015*\"60\" + 0.015*\"교통\" + 0.015*\"서울_거주지\" + 0.014*\"취침\"'),\n",
              " (11,\n",
              "  '0.121*\"세종_거주지\" + 0.113*\"활동\" + 0.106*\"202002\" + 0.094*\"RED\" + 0.093*\"광주_사용장소\" + 0.082*\"M\" + 0.064*\"사진촬영\" + 0.047*\"문화예술활동\" + 0.041*\"20\" + 0.034*\"서울_사용장소\" + 0.030*\"30\" + 0.028*\"광주_거주지\" + 0.027*\"F\" + 0.027*\"취미오락\" + 0.021*\"50\" + 0.020*\"여행사\" + 0.015*\"독서\" + 0.013*\"40\" + 0.005*\"여행\" + 0.005*\"외식\"'),\n",
              " (12,\n",
              "  '0.146*\"충북_거주지\" + 0.109*\"202002\" + 0.098*\"WHITE\" + 0.094*\"취미오락\" + 0.092*\"충북_사용장소\" + 0.075*\"독서\" + 0.072*\"활동\" + 0.060*\"M\" + 0.053*\"F\" + 0.036*\"휴식\" + 0.029*\"30\" + 0.029*\"40\" + 0.029*\"20\" + 0.021*\"서울_사용장소\" + 0.017*\"60\" + 0.011*\"외식\" + 0.011*\"경기_사용장소\" + 0.005*\"종합쇼핑\" + 0.004*\"경기_거주지\" + 0.003*\"50\"'),\n",
              " (13,\n",
              "  '0.130*\"서울_거주지\" + 0.121*\"인터넷게임\" + 0.112*\"202002\" + 0.101*\"취미오락\" + 0.087*\"WHITE\" + 0.080*\"M\" + 0.068*\"서울_사용장소\" + 0.049*\"휴식\" + 0.038*\"F\" + 0.036*\"20\" + 0.035*\"RED\" + 0.029*\"활동\" + 0.028*\"취침\" + 0.025*\"60\" + 0.024*\"50\" + 0.016*\"30\" + 0.016*\"40\" + 0.001*\"강원_거주지\" + 0.001*\"교육훈련\" + 0.000*\"스포츠활동\"'),\n",
              " (14,\n",
              "  '0.180*\"전남_사용장소\" + 0.139*\"전남_거주지\" + 0.107*\"202002\" + 0.097*\"활동\" + 0.083*\"취미오락\" + 0.068*\"WHITE\" + 0.062*\"F\" + 0.049*\"M\" + 0.044*\"RED\" + 0.036*\"30\" + 0.029*\"종교활동\" + 0.026*\"50\" + 0.018*\"60\" + 0.015*\"종합쇼핑\" + 0.012*\"40\" + 0.011*\"외식\" + 0.010*\"20\" + 0.004*\"경남_거주지\" + 0.003*\"휴식\" + 0.003*\"경남_사용장소\"'),\n",
              " (15,\n",
              "  '0.114*\"202002\" + 0.107*\"문화예술활동\" + 0.097*\"경기_사용장소\" + 0.093*\"F\" + 0.079*\"공연관람\" + 0.065*\"WHITE\" + 0.064*\"활동\" + 0.053*\"RED\" + 0.049*\"휴식\" + 0.043*\"경기_거주지\" + 0.040*\"20\" + 0.038*\"30\" + 0.036*\"M\" + 0.028*\"서울_사용장소\" + 0.026*\"서울_거주지\" + 0.018*\"60\" + 0.017*\"50\" + 0.009*\"스포츠활동\" + 0.006*\"스포츠용품구매\" + 0.006*\"스키\"'),\n",
              " (16,\n",
              "  '0.114*\"휴식\" + 0.113*\"202002\" + 0.106*\"취미오락\" + 0.105*\"WHITE\" + 0.097*\"50\" + 0.092*\"광주_거주지\" + 0.087*\"전북_거주지\" + 0.064*\"M\" + 0.050*\"F\" + 0.041*\"외식\" + 0.032*\"서울_사용장소\" + 0.026*\"종합쇼핑\" + 0.014*\"RED\" + 0.014*\"20\" + 0.011*\"60\" + 0.008*\"광주_사용장소\" + 0.005*\"전북_사용장소\" + 0.005*\"부산_사용장소\" + 0.004*\"활동\" + 0.003*\"대구_사용장소\"'),\n",
              " (17,\n",
              "  '0.194*\"충남_거주지\" + 0.170*\"충남_사용장소\" + 0.106*\"202002\" + 0.080*\"취미오락\" + 0.076*\"활동\" + 0.061*\"RED\" + 0.058*\"F\" + 0.056*\"M\" + 0.048*\"WHITE\" + 0.040*\"30\" + 0.029*\"외식\" + 0.022*\"40\" + 0.016*\"60\" + 0.016*\"20\" + 0.009*\"전북_거주지\" + 0.006*\"서울_사용장소\" + 0.005*\"50\" + 0.002*\"취침\" + 0.002*\"미용\" + 0.001*\"전남_사용장소\"'),\n",
              " (18,\n",
              "  '0.147*\"미용\" + 0.129*\"취미오락\" + 0.116*\"202002\" + 0.098*\"WHITE\" + 0.091*\"M\" + 0.076*\"활동\" + 0.051*\"경기_거주지\" + 0.046*\"경기_사용장소\" + 0.042*\"50\" + 0.037*\"휴식\" + 0.029*\"40\" + 0.024*\"서울_사용장소\" + 0.023*\"F\" + 0.023*\"20\" + 0.018*\"RED\" + 0.017*\"목욕\" + 0.013*\"30\" + 0.007*\"60\" + 0.005*\"교육훈련\" + 0.004*\"울산_거주지\"'),\n",
              " (19,\n",
              "  '0.108*\"202002\" + 0.088*\"강원_거주지\" + 0.087*\"강원_사용장소\" + 0.087*\"취미오락\" + 0.085*\"RED\" + 0.070*\"울산_거주지\" + 0.067*\"F\" + 0.052*\"휴식\" + 0.049*\"M\" + 0.047*\"활동\" + 0.043*\"20\" + 0.042*\"제주_거주지\" + 0.035*\"30\" + 0.033*\"외식\" + 0.029*\"울산_사용장소\" + 0.025*\"제주_사용장소\" + 0.019*\"50\" + 0.013*\"경기_사용장소\" + 0.007*\"60\" + 0.006*\"종합쇼핑\"')]"
            ]
          },
          "metadata": {
            "tags": []
          },
          "execution_count": 27
        }
      ]
    },
    {
      "cell_type": "code",
      "metadata": {
        "id": "4MjAzRCcnbNk"
      },
      "source": [
        "#!pip install pyLDAvis\n",
        "import pyLDAvis.gensim as gensimvis\n",
        "import pyLDAvis"
      ],
      "execution_count": null,
      "outputs": []
    },
    {
      "cell_type": "code",
      "metadata": {
        "id": "U32bbNRWntA2"
      },
      "source": [
        "prepared_data_b = gensimvis.prepare(a_ldamodel, a_corpus, a_dictionary)"
      ],
      "execution_count": null,
      "outputs": []
    },
    {
      "cell_type": "code",
      "metadata": {
        "id": "rRbV8pAfoBDB"
      },
      "source": [
        "pyLDAvis.display(prepared_data_b)"
      ],
      "execution_count": null,
      "outputs": []
    },
    {
      "cell_type": "code",
      "metadata": {
        "id": "cjluUrtboIRi"
      },
      "source": [
        "pyLDAvis.save_html(prepared_data_b, 'LDAvis_a_20.html' )"
      ],
      "execution_count": null,
      "outputs": []
    }
  ]
}
