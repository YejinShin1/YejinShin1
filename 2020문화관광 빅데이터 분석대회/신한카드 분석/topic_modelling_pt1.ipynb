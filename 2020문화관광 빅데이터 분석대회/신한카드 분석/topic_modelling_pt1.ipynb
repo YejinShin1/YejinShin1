{
  "nbformat": 4,
  "nbformat_minor": 0,
  "metadata": {
    "colab": {
      "name": "topic_modelling pt1.ipynb",
      "provenance": [],
      "collapsed_sections": [],
      "include_colab_link": true
    },
    "kernelspec": {
      "name": "python3",
      "display_name": "Python 3"
    }
  },
  "cells": [
    {
      "cell_type": "markdown",
      "metadata": {
        "id": "view-in-github",
        "colab_type": "text"
      },
      "source": [
        "<a href=\"https://colab.research.google.com/github/YejinShin1/god_yes_jeans/blob/master/topic_modelling_pt1.ipynb\" target=\"_parent\"><img src=\"https://colab.research.google.com/assets/colab-badge.svg\" alt=\"Open In Colab\"/></a>"
      ]
    },
    {
      "cell_type": "code",
      "metadata": {
        "id": "y90ASmnADw8j"
      },
      "source": [
        "import os \n",
        "import pandas as pd \n",
        "import gensim\n",
        "from gensim.models.word2vec import Word2Vec\n",
        "from gensim.models import CoherenceModel\n",
        "from gensim import corpora, models\n",
        "from gensim.models.ldamodel import LdaModel\n",
        "import numpy as np\n",
        "import matplotlib.pyplot as plt\n",
        "from sklearn.decomposition import TruncatedSVD\n",
        "from sklearn.decomposition import PCA"
      ],
      "execution_count": 24,
      "outputs": []
    },
    {
      "cell_type": "code",
      "metadata": {
        "id": "lI4R15VrEyTQ",
        "colab": {
          "base_uri": "https://localhost:8080/"
        },
        "outputId": "b21b69fe-db9c-426e-86a1-a4941b6ca6d1"
      },
      "source": [
        "file_name = os.listdir('./')\n",
        "file_name"
      ],
      "execution_count": 9,
      "outputs": [
        {
          "output_type": "execute_result",
          "data": {
            "text/plain": [
              "['.config', 'KCTI_NATIVE_2019.xlsx', 'sample_data']"
            ]
          },
          "metadata": {
            "tags": []
          },
          "execution_count": 9
        }
      ]
    },
    {
      "cell_type": "code",
      "metadata": {
        "id": "B2tXuAvBE3Y6",
        "colab": {
          "base_uri": "https://localhost:8080/",
          "height": 204
        },
        "outputId": "2db681b9-9460-49da-8f0a-eb2e62257389"
      },
      "source": [
        "df = pd.read_excel('KCTI_NATIVE_2019.xlsx')\n",
        "df.head()"
      ],
      "execution_count": 11,
      "outputs": [
        {
          "output_type": "execute_result",
          "data": {
            "text/html": [
              "<div>\n",
              "<style scoped>\n",
              "    .dataframe tbody tr th:only-of-type {\n",
              "        vertical-align: middle;\n",
              "    }\n",
              "\n",
              "    .dataframe tbody tr th {\n",
              "        vertical-align: top;\n",
              "    }\n",
              "\n",
              "    .dataframe thead th {\n",
              "        text-align: right;\n",
              "    }\n",
              "</style>\n",
              "<table border=\"1\" class=\"dataframe\">\n",
              "  <thead>\n",
              "    <tr style=\"text-align: right;\">\n",
              "      <th></th>\n",
              "      <th>v1</th>\n",
              "      <th>v2</th>\n",
              "      <th>v3</th>\n",
              "      <th>gb3</th>\n",
              "      <th>gb2</th>\n",
              "      <th>sex_ccd</th>\n",
              "      <th>cln_age_r</th>\n",
              "      <th>ta_ym</th>\n",
              "      <th>daw_ccd_r</th>\n",
              "      <th>apv_ts_dl_tm_r</th>\n",
              "      <th>vlm</th>\n",
              "      <th>usec</th>\n",
              "    </tr>\n",
              "  </thead>\n",
              "  <tbody>\n",
              "    <tr>\n",
              "      <th>0</th>\n",
              "      <td>세종</td>\n",
              "      <td>세종</td>\n",
              "      <td>.</td>\n",
              "      <td>취미오락</td>\n",
              "      <td>종합쇼핑</td>\n",
              "      <td>M</td>\n",
              "      <td>40</td>\n",
              "      <td>201901</td>\n",
              "      <td>WHITE</td>\n",
              "      <td>활동</td>\n",
              "      <td>1878919479</td>\n",
              "      <td>63579</td>\n",
              "    </tr>\n",
              "    <tr>\n",
              "      <th>1</th>\n",
              "      <td>대전</td>\n",
              "      <td>세종</td>\n",
              "      <td>.</td>\n",
              "      <td>취미오락</td>\n",
              "      <td>외식</td>\n",
              "      <td>M</td>\n",
              "      <td>20</td>\n",
              "      <td>201901</td>\n",
              "      <td>WHITE</td>\n",
              "      <td>휴식</td>\n",
              "      <td>69452328</td>\n",
              "      <td>2952</td>\n",
              "    </tr>\n",
              "    <tr>\n",
              "      <th>2</th>\n",
              "      <td>서울</td>\n",
              "      <td>세종</td>\n",
              "      <td>.</td>\n",
              "      <td>취미오락</td>\n",
              "      <td>외식</td>\n",
              "      <td>F</td>\n",
              "      <td>40</td>\n",
              "      <td>201901</td>\n",
              "      <td>RED</td>\n",
              "      <td>휴식</td>\n",
              "      <td>9267020</td>\n",
              "      <td>286</td>\n",
              "    </tr>\n",
              "    <tr>\n",
              "      <th>3</th>\n",
              "      <td>경남</td>\n",
              "      <td>세종</td>\n",
              "      <td>.</td>\n",
              "      <td>취미오락</td>\n",
              "      <td>종합쇼핑</td>\n",
              "      <td>M</td>\n",
              "      <td>50</td>\n",
              "      <td>201901</td>\n",
              "      <td>RED</td>\n",
              "      <td>휴식</td>\n",
              "      <td>603499</td>\n",
              "      <td>20</td>\n",
              "    </tr>\n",
              "    <tr>\n",
              "      <th>4</th>\n",
              "      <td>충북</td>\n",
              "      <td>세종</td>\n",
              "      <td>.</td>\n",
              "      <td>취미오락</td>\n",
              "      <td>종합쇼핑</td>\n",
              "      <td>F</td>\n",
              "      <td>40</td>\n",
              "      <td>201901</td>\n",
              "      <td>WHITE</td>\n",
              "      <td>활동</td>\n",
              "      <td>107638881</td>\n",
              "      <td>2379</td>\n",
              "    </tr>\n",
              "  </tbody>\n",
              "</table>\n",
              "</div>"
            ],
            "text/plain": [
              "   v1  v2 v3   gb3   gb2  ...   ta_ym  daw_ccd_r  apv_ts_dl_tm_r         vlm   usec\n",
              "0  세종  세종  .  취미오락  종합쇼핑  ...  201901      WHITE              활동  1878919479  63579\n",
              "1  대전  세종  .  취미오락    외식  ...  201901      WHITE              휴식    69452328   2952\n",
              "2  서울  세종  .  취미오락    외식  ...  201901        RED              휴식     9267020    286\n",
              "3  경남  세종  .  취미오락  종합쇼핑  ...  201901        RED              휴식      603499     20\n",
              "4  충북  세종  .  취미오락  종합쇼핑  ...  201901      WHITE              활동   107638881   2379\n",
              "\n",
              "[5 rows x 12 columns]"
            ]
          },
          "metadata": {
            "tags": []
          },
          "execution_count": 11
        }
      ]
    },
    {
      "cell_type": "code",
      "metadata": {
        "id": "vqsOih45E_BQ"
      },
      "source": [
        "v1 = df['v1'].tolist()\n",
        "v2 = df['v2'].tolist()\n",
        "#v3 = df['v3'].tolist()\n",
        "gb3 = df['gb3'].tolist()\n",
        "gb2 = df['gb2'].tolist()\n",
        "sex_ccd = df['sex_ccd'].tolist()\n",
        "cln_age_r = df['cln_age_r'].tolist()\n",
        "ta_ym = df['ta_ym'].tolist()\n",
        "daw_ccd_r = df['daw_ccd_r'].tolist()\n",
        "apv_ts_dl_tm_r = df['apv_ts_dl_tm_r'].tolist()\n",
        "\n",
        "cln_age_r = [str(age) for age in cln_age_r]\n",
        "ta_ym = [str(ym) for ym in ta_ym]"
      ],
      "execution_count": 12,
      "outputs": []
    },
    {
      "cell_type": "code",
      "metadata": {
        "id": "5_G9lQ7w-wrY"
      },
      "source": [
        "v1 = [city + str(\"_거주지\") for city in v1]\n",
        "v2 = [city + str(\"_사용장소\") for city in v2]"
      ],
      "execution_count": 13,
      "outputs": []
    },
    {
      "cell_type": "code",
      "metadata": {
        "id": "RGEcIqKGG_5H",
        "colab": {
          "base_uri": "https://localhost:8080/"
        },
        "outputId": "5a293341-b183-4d38-9c61-5cfd5864da79"
      },
      "source": [
        "df_list = list(zip(v1, v2, gb3, gb2, sex_ccd, cln_age_r, ta_ym, daw_ccd_r, apv_ts_dl_tm_r))\n",
        "df_list = [list(customer) for customer in df_list]\n",
        "df_list[:10]"
      ],
      "execution_count": 14,
      "outputs": [
        {
          "output_type": "execute_result",
          "data": {
            "text/plain": [
              "[['세종_거주지', '세종_사용장소', '취미오락', '종합쇼핑', 'M', '40', '201901', 'WHITE', '활동'],\n",
              " ['대전_거주지', '세종_사용장소', '취미오락', '외식', 'M', '20', '201901', 'WHITE', '휴식'],\n",
              " ['서울_거주지', '세종_사용장소', '취미오락', '외식', 'F', '40', '201901', 'RED', '휴식'],\n",
              " ['경남_거주지', '세종_사용장소', '취미오락', '종합쇼핑', 'M', '50', '201901', 'RED', '휴식'],\n",
              " ['충북_거주지', '세종_사용장소', '취미오락', '종합쇼핑', 'F', '40', '201901', 'WHITE', '활동'],\n",
              " ['충북_거주지', '세종_사용장소', '취미오락', '목욕', 'M', '30', '201901', 'RED', '활동'],\n",
              " ['부산_거주지', '세종_사용장소', '취미오락', '외식', 'M', '50', '201901', 'WHITE', '휴식'],\n",
              " ['대전_거주지', '세종_사용장소', '스포츠활동', '레저스포츠', 'M', '30', '201901', 'WHITE', '활동'],\n",
              " ['세종_거주지', '세종_사용장소', '취미오락', '종합쇼핑', 'M', '20', '201901', 'WHITE', '휴식'],\n",
              " ['전북_거주지', '세종_사용장소', '취미오락', '외식', 'M', '60', '201901', 'RED', '활동']]"
            ]
          },
          "metadata": {
            "tags": []
          },
          "execution_count": 14
        }
      ]
    },
    {
      "cell_type": "code",
      "metadata": {
        "id": "cRd4TutNIclY",
        "colab": {
          "base_uri": "https://localhost:8080/"
        },
        "outputId": "ccb70776-18ac-4a15-d396-35dfe02b5693"
      },
      "source": [
        "dictionary = corpora.Dictionary(df_list)\n",
        "corpus = [dictionary.doc2bow(text) for text in df_list]\n",
        "\n",
        "print('Number of unique tokens: %d' % len(dictionary))\n",
        "print('Number of documents: %d' % len(corpus))"
      ],
      "execution_count": 15,
      "outputs": [
        {
          "output_type": "stream",
          "text": [
            "Number of unique tokens: 80\n",
            "Number of documents: 1048575\n"
          ],
          "name": "stdout"
        }
      ]
    },
    {
      "cell_type": "code",
      "metadata": {
        "id": "RBCbXqx2QNPV"
      },
      "source": [
        "def compute_coherence_values(dictionary, corpus, texts, limit, start=2, step=3):\n",
        "    \"\"\"\n",
        "    Compute c_v coherence for various number of topics\n",
        "\n",
        "    Parameters:\n",
        "    ----------\n",
        "    dictionary : Gensim dictionary\n",
        "    corpus : Gensim corpus\n",
        "    texts : List of input texts\n",
        "    limit : Max num of topics\n",
        "\n",
        "    Returns:\n",
        "    -------\n",
        "    model_list : List of LDA topic models\n",
        "    coherence_values : Coherence values corresponding to the LDA model with respective number of topics\n",
        "    \"\"\"\n",
        "    coherence_values = []\n",
        "    model_list = []\n",
        "    for num_topics in range(start, limit, step):\n",
        "        model = models.ldamodel.LdaModel(corpus, num_topics=num_topics,\n",
        "                        id2word=dictionary,\n",
        "                        alpha='auto')\n",
        "        model_list.append(model)\n",
        "        coherencemodel = CoherenceModel(model=model, texts=texts, dictionary=dictionary, coherence='c_v')\n",
        "        coherence_values.append(coherencemodel.get_coherence())\n",
        "\n",
        "    return model_list, coherence_values"
      ],
      "execution_count": 16,
      "outputs": []
    },
    {
      "cell_type": "code",
      "metadata": {
        "id": "aRt9_zGhR3yO"
      },
      "source": [
        "model_list, coherence_values = compute_coherence_values(dictionary=dictionary, corpus=corpus, texts=df_list, start=2, limit=40, step=6)"
      ],
      "execution_count": 17,
      "outputs": []
    },
    {
      "cell_type": "code",
      "metadata": {
        "id": "IlRMU8osSATC",
        "colab": {
          "base_uri": "https://localhost:8080/",
          "height": 279
        },
        "outputId": "36ccc326-a19d-4738-8e5d-156b4e417205"
      },
      "source": [
        "import matplotlib.pyplot as plt\n",
        "limit=40; start=2; step=6;\n",
        "x = range(start, limit, step)\n",
        "plt.plot(x, coherence_values)\n",
        "plt.xlabel(\"Num Topics\")\n",
        "plt.ylabel(\"Coherence score\")\n",
        "plt.legend((\"coherence_values\"), loc='best')\n",
        "plt.show()"
      ],
      "execution_count": 18,
      "outputs": [
        {
          "output_type": "display_data",
          "data": {
            "image/png": "[encoded data removed]",
            "text/plain": [
              "<Figure size 432x288 with 1 Axes>"
            ]
          },
          "metadata": {
            "tags": [],
            "needs_background": "light"
          }
        }
      ]
    },
    {
      "cell_type": "code",
      "metadata": {
        "id": "Y8mhUIgkTLU9"
      },
      "source": [
        "ldamodel.log_perplexity(corpus)"
      ],
      "execution_count": null,
      "outputs": []
    },
    {
      "cell_type": "code",
      "metadata": {
        "id": "hHF0mqlmU02B"
      },
      "source": [
        "start1 = 2\n",
        "limit1 = 40\n",
        "step1 = 6\n",
        "perplexity_scores=[]\n",
        "for num_topics in range(start1, limit1, step1):\n",
        "    model = models.ldamodel.LdaModel(corpus, num_topics=num_topics,\n",
        "                    id2word=dictionary,\n",
        "                    alpha='auto')\n",
        "    perplexity_scores.append(ldamodel.log_perplexity(corpus))"
      ],
      "execution_count": null,
      "outputs": []
    },
    {
      "cell_type": "code",
      "metadata": {
        "id": "ZRhv4rZ2pu3F",
        "colab": {
          "base_uri": "https://localhost:8080/",
          "height": 143
        },
        "outputId": "1a92974b-ecb8-4a10-bd63-8ea332af956f"
      },
      "source": [
        "perplexity_scores"
      ],
      "execution_count": null,
      "outputs": [
        {
          "output_type": "execute_result",
          "data": {
            "text/plain": [
              "[-4.069106674659915,\n",
              " -4.069100466174727,\n",
              " -4.0691018593070325,\n",
              " -4.069096671491126,\n",
              " -4.069091581746771,\n",
              " -4.069091528035872,\n",
              " -4.069092169577556]"
            ]
          },
          "metadata": {
            "tags": []
          },
          "execution_count": 17
        }
      ]
    },
    {
      "cell_type": "code",
      "metadata": {
        "id": "b3wxMtg72Nd6",
        "colab": {
          "base_uri": "https://localhost:8080/",
          "height": 290
        },
        "outputId": "096e25ba-84e4-46d2-8abd-55e0ab985029"
      },
      "source": [
        "import matplotlib.pyplot as plt\n",
        "x = range(start1, limit1, step1)\n",
        "plt.plot(x, perplexity_scores)\n",
        "plt.xlabel(\"Num Topics\")\n",
        "plt.ylabel(\"Log Perplexity scores\")\n",
        "plt.legend((\"Log Perplexity\"), loc='best')\n",
        "plt.show()"
      ],
      "execution_count": null,
      "outputs": [
        {
          "output_type": "display_data",
          "data": {
            "image/png": "[encoded data removed]",
            "text/plain": [
              "<Figure size 432x288 with 1 Axes>"
            ]
          },
          "metadata": {
            "tags": [],
            "needs_background": "light"
          }
        }
      ]
    },
    {
      "cell_type": "code",
      "metadata": {
        "id": "0LDGOdDFSGVH"
      },
      "source": [
        "# Topic 개수 20개\n",
        "ldamodel = gensim.models.ldamodel.LdaModel(corpus, num_topics=20, id2word = dictionary)\n",
        "\n",
        "ldamodel.print_topics(num_words=20)"
      ],
      "execution_count": null,
      "outputs": []
    },
    {
      "cell_type": "code",
      "metadata": {
        "id": "4V0i97xYJk8s"
      },
      "source": [
        "ldamodel_15 = gensim.models.ldamodel.LdaModel(corpus, num_topics=15, id2word = dictionary)\n",
        "\n",
        "ldamodel_15.print_topics(num_words=20)"
      ],
      "execution_count": null,
      "outputs": []
    },
    {
      "cell_type": "code",
      "metadata": {
        "id": "JYvCj033PnH3"
      },
      "source": [
        "#Topic 개수 13개\n",
        "ldamodel = gensim.models.ldamodel.LdaModel(corpus, num_topics=13, id2word = dictionary)\n",
        "\n",
        "ldamodel.print_topics(num_words=20)"
      ],
      "execution_count": null,
      "outputs": []
    },
    {
      "cell_type": "code",
      "metadata": {
        "id": "r9De0rEGQtx7"
      },
      "source": [
        "before_covid = df[df['ta_ym'] != 202002]\n",
        "after_covid = df[df['ta_ym'] == 202002]"
      ],
      "execution_count": null,
      "outputs": []
    },
    {
      "cell_type": "code",
      "metadata": {
        "id": "7AaOOTmk4UOH"
      },
      "source": [
        "b_v1 = before_covid['v1'].tolist()\n",
        "b_v2 = before_covid['v2'].tolist()\n",
        "#v3 = df['v3'].tolist()\n",
        "b_gb3 = before_covid['gb3'].tolist()\n",
        "b_gb2 = before_covid['gb2'].tolist()\n",
        "b_sex_ccd = before_covid['sex_ccd'].tolist()\n",
        "b_cln_age_r = before_covid['cln_age_r'].tolist()\n",
        "b_ta_ym = before_covid['ta_ym'].tolist()\n",
        "b_daw_ccd_r = before_covid['daw_ccd_r'].tolist()\n",
        "b_apv_ts_dl_tm_r = before_covid['apv_ts_dl_tm_r'].tolist()\n",
        "\n",
        "b_cln_age_r = [str(age) for age in b_cln_age_r]\n",
        "b_ta_ym = [str(ym) for ym in b_ta_ym]\n",
        "\n",
        "b_v1 = [city + str(\"_거주지\") for city in b_v1]\n",
        "b_v2 = [city + str(\"_사용장소\") for city in b_v2]"
      ],
      "execution_count": null,
      "outputs": []
    },
    {
      "cell_type": "code",
      "metadata": {
        "id": "_-EfjmzR5vcX",
        "colab": {
          "base_uri": "https://localhost:8080/",
          "height": 193
        },
        "outputId": "99dbd2ea-6e58-4751-cda5-4167f4ed32b3"
      },
      "source": [
        "b_list = list(zip(b_v1, b_v2, b_gb3, b_gb2, b_sex_ccd, b_cln_age_r, b_ta_ym, b_daw_ccd_r, b_apv_ts_dl_tm_r))\n",
        "b_list = [list(customer) for customer in b_list]\n",
        "b_list[:10]"
      ],
      "execution_count": null,
      "outputs": [
        {
          "output_type": "execute_result",
          "data": {
            "text/plain": [
              "[['경기_거주지', '세종_사용장소', '취미오락', '유흥', 'M', '40', '202001', 'RED', '휴식'],\n",
              " ['경남_거주지', '세종_사용장소', '스포츠활동', '레저스포츠', 'M', '30', '202001', 'RED', '활동'],\n",
              " ['광주_거주지', '세종_사용장소', '취미오락', '패션쇼핑', 'M', '30', '202001', 'RED', '휴식'],\n",
              " ['인천_거주지', '세종_사용장소', '취미오락', '인터넷게임', 'M', '30', '202001', 'RED', '취침'],\n",
              " ['경기_거주지', '세종_사용장소', '취미오락', '유흥', 'M', '40', '202001', 'RED', '취침'],\n",
              " ['서울_거주지', '세종_사용장소', '스포츠활동', '스포츠용품구매', 'M', '40', '202001', 'RED', '활동'],\n",
              " ['제주_거주지', '세종_사용장소', '스포츠활동', '레저스포츠', 'M', '50', '202001', 'RED', '활동'],\n",
              " ['서울_거주지', '세종_사용장소', '취미오락', '목욕', 'M', '20', '202001', 'WHITE', '취침'],\n",
              " ['강원_거주지', '세종_사용장소', '스포츠활동', '레저스포츠', 'F', '20', '202001', 'RED', '활동'],\n",
              " ['세종_거주지', '세종_사용장소', '취미오락', '독서', 'M', '60', '202001', 'RED', '휴식']]"
            ]
          },
          "metadata": {
            "tags": []
          },
          "execution_count": 47
        }
      ]
    },
    {
      "cell_type": "code",
      "metadata": {
        "id": "c84HNNtC5p3h",
        "colab": {
          "base_uri": "https://localhost:8080/",
          "height": 52
        },
        "outputId": "54d2a625-b984-4dbe-c5e4-c3334acc5d5e"
      },
      "source": [
        "b_dictionary = corpora.Dictionary(b_list)\n",
        "b_corpus = [dictionary.doc2bow(text) for text in b_list]\n",
        "\n",
        "print('Number of unique tokens: %d' % len(dictionary))\n",
        "print('Number of documents: %d' % len(corpus))"
      ],
      "execution_count": null,
      "outputs": [
        {
          "output_type": "stream",
          "text": [
            "Number of unique tokens: 79\n",
            "Number of documents: 1015403\n"
          ],
          "name": "stdout"
        }
      ]
    },
    {
      "cell_type": "code",
      "metadata": {
        "id": "v1eeYfGt6kIK",
        "colab": {
          "base_uri": "https://localhost:8080/",
          "height": 34
        },
        "outputId": "9c74b0bf-b794-454c-f08a-cec087b3a44a"
      },
      "source": [
        "ldamodel.log_perplexity(b_corpus)"
      ],
      "execution_count": null,
      "outputs": [
        {
          "output_type": "execute_result",
          "data": {
            "text/plain": [
              "-3.9809605970463133"
            ]
          },
          "metadata": {
            "tags": []
          },
          "execution_count": 52
        }
      ]
    },
    {
      "cell_type": "code",
      "metadata": {
        "id": "cwHTvSQi67fS"
      },
      "source": [
        "start1 = 2\n",
        "limit1 = 40\n",
        "step1 = 6\n",
        "b_perplexity_scores=[]\n",
        "for num_topics in range(start1, limit1, step1):\n",
        "    model = models.ldamodel.LdaModel(b_corpus, num_topics=num_topics,\n",
        "                    id2word=b_dictionary,\n",
        "                    alpha='auto')\n",
        "    b_perplexity_scores.append(ldamodel.log_perplexity(b_corpus))"
      ],
      "execution_count": null,
      "outputs": []
    },
    {
      "cell_type": "code",
      "metadata": {
        "id": "kuntJnTw9ZOV",
        "colab": {
          "base_uri": "https://localhost:8080/",
          "height": 140
        },
        "outputId": "b284a585-8eaf-4595-d802-85aa78339918"
      },
      "source": [
        "b_perplexity_scores "
      ],
      "execution_count": null,
      "outputs": [
        {
          "output_type": "execute_result",
          "data": {
            "text/plain": [
              "[-3.980970514435481,\n",
              " -3.980956165409657,\n",
              " -3.9809536259989877,\n",
              " -3.9809770389930668,\n",
              " -3.98096131786865,\n",
              " -3.980977592036755,\n",
              " -3.980959095266917]"
            ]
          },
          "metadata": {
            "tags": []
          },
          "execution_count": 61
        }
      ]
    },
    {
      "cell_type": "code",
      "metadata": {
        "id": "mTVTj0xe9m_T",
        "colab": {
          "base_uri": "https://localhost:8080/",
          "height": 290
        },
        "outputId": "02303619-80f4-4821-cc20-f544a5532d62"
      },
      "source": [
        "import matplotlib.pyplot as plt\n",
        "x = range(start1, limit1, step1)\n",
        "plt.plot(x, b_perplexity_scores)\n",
        "plt.xlabel(\"Num Topics\")\n",
        "plt.ylabel(\"Log Perplexity scores of Before_Covid Data\")\n",
        "plt.legend((\"Log Perplexity\"), loc='best')\n",
        "plt.show()"
      ],
      "execution_count": null,
      "outputs": [
        {
          "output_type": "display_data",
          "data": {
            "image/png": "[encoded data removed]",
            "text/plain": [
              "<Figure size 432x288 with 1 Axes>"
            ]
          },
          "metadata": {
            "tags": [],
            "needs_background": "light"
          }
        }
      ]
    },
    {
      "cell_type": "code",
      "metadata": {
        "id": "2vGKNYrU90lE"
      },
      "source": [
        "# Topic 개수 20개\n",
        "b_ldamodel = gensim.models.ldamodel.LdaModel(b_corpus, num_topics=20, id2word = b_dictionary)\n",
        "\n",
        "b_ldamodel.print_topics(num_words=20)"
      ],
      "execution_count": null,
      "outputs": []
    },
    {
      "cell_type": "code",
      "metadata": {
        "id": "V0jVO0dfVJLc",
        "colab": {
          "base_uri": "https://localhost:8080/",
          "height": 647
        },
        "outputId": "ff2acf7d-624d-4d0e-f1ef-b77335ca94eb"
      },
      "source": [
        "!pip install pyLDAvis\n",
        "import pyLDAvis.gensim as gensimvis\n",
        "import pyLDAvis"
      ],
      "execution_count": null,
      "outputs": [
        {
          "output_type": "stream",
          "text": [
            "Collecting pyLDAvis\n",
            "\u001b[?25l  Downloading https://files.pythonhosted.org/packages/a5/3a/af82e070a8a96e13217c8f362f9a73e82d61ac8fff3a2561946a97f96266/pyLDAvis-2.1.2.tar.gz (1.6MB)\n",
            "\u001b[K     |████████████████████████████████| 1.6MB 3.4MB/s \n",
            "\u001b[?25hRequirement already satisfied: wheel>=0.23.0 in /usr/local/lib/python3.6/dist-packages (from pyLDAvis) (0.34.2)\n",
            "Requirement already satisfied: numpy>=1.9.2 in /usr/local/lib/python3.6/dist-packages (from pyLDAvis) (1.18.5)\n",
            "Requirement already satisfied: scipy>=0.18.0 in /usr/local/lib/python3.6/dist-packages (from pyLDAvis) (1.4.1)\n",
            "Requirement already satisfied: pandas>=0.17.0 in /usr/local/lib/python3.6/dist-packages (from pyLDAvis) (1.0.5)\n",
            "Requirement already satisfied: joblib>=0.8.4 in /usr/local/lib/python3.6/dist-packages (from pyLDAvis) (0.16.0)\n",
            "Requirement already satisfied: jinja2>=2.7.2 in /usr/local/lib/python3.6/dist-packages (from pyLDAvis) (2.11.2)\n",
            "Requirement already satisfied: numexpr in /usr/local/lib/python3.6/dist-packages (from pyLDAvis) (2.7.1)\n",
            "Requirement already satisfied: pytest in /usr/local/lib/python3.6/dist-packages (from pyLDAvis) (3.6.4)\n",
            "Requirement already satisfied: future in /usr/local/lib/python3.6/dist-packages (from pyLDAvis) (0.16.0)\n",
            "Collecting funcy\n",
            "\u001b[?25l  Downloading https://files.pythonhosted.org/packages/ce/4b/6ffa76544e46614123de31574ad95758c421aae391a1764921b8a81e1eae/funcy-1.14.tar.gz (548kB)\n",
            "\u001b[K     |████████████████████████████████| 552kB 19.5MB/s \n",
            "\u001b[?25hRequirement already satisfied: python-dateutil>=2.6.1 in /usr/local/lib/python3.6/dist-packages (from pandas>=0.17.0->pyLDAvis) (2.8.1)\n",
            "Requirement already satisfied: pytz>=2017.2 in /usr/local/lib/python3.6/dist-packages (from pandas>=0.17.0->pyLDAvis) (2018.9)\n",
            "Requirement already satisfied: MarkupSafe>=0.23 in /usr/local/lib/python3.6/dist-packages (from jinja2>=2.7.2->pyLDAvis) (1.1.1)\n",
            "Requirement already satisfied: more-itertools>=4.0.0 in /usr/local/lib/python3.6/dist-packages (from pytest->pyLDAvis) (8.4.0)\n",
            "Requirement already satisfied: six>=1.10.0 in /usr/local/lib/python3.6/dist-packages (from pytest->pyLDAvis) (1.15.0)\n",
            "Requirement already satisfied: setuptools in /usr/local/lib/python3.6/dist-packages (from pytest->pyLDAvis) (49.2.0)\n",
            "Requirement already satisfied: py>=1.5.0 in /usr/local/lib/python3.6/dist-packages (from pytest->pyLDAvis) (1.9.0)\n",
            "Requirement already satisfied: atomicwrites>=1.0 in /usr/local/lib/python3.6/dist-packages (from pytest->pyLDAvis) (1.4.0)\n",
            "Requirement already satisfied: attrs>=17.4.0 in /usr/local/lib/python3.6/dist-packages (from pytest->pyLDAvis) (19.3.0)\n",
            "Requirement already satisfied: pluggy<0.8,>=0.5 in /usr/local/lib/python3.6/dist-packages (from pytest->pyLDAvis) (0.7.1)\n",
            "Building wheels for collected packages: pyLDAvis, funcy\n",
            "  Building wheel for pyLDAvis (setup.py) ... \u001b[?25l\u001b[?25hdone\n",
            "  Created wheel for pyLDAvis: filename=pyLDAvis-2.1.2-py2.py3-none-any.whl size=97711 sha256=b09962339a6f77d46494591f97301258c7864c5ab51f44e2eb29e9e2f081f2aa\n",
            "  Stored in directory: /root/.cache/pip/wheels/98/71/24/513a99e58bb6b8465bae4d2d5e9dba8f0bef8179e3051ac414\n",
            "  Building wheel for funcy (setup.py) ... \u001b[?25l\u001b[?25hdone\n",
            "  Created wheel for funcy: filename=funcy-1.14-py2.py3-none-any.whl size=32042 sha256=2e895bbe94dc912c0e6545740ff6e1da7ad9117535a2d366b6391bd8f7056f28\n",
            "  Stored in directory: /root/.cache/pip/wheels/20/5a/d8/1d875df03deae6f178dfdf70238cca33f948ef8a6f5209f2eb\n",
            "Successfully built pyLDAvis funcy\n",
            "Installing collected packages: funcy, pyLDAvis\n",
            "Successfully installed funcy-1.14 pyLDAvis-2.1.2\n"
          ],
          "name": "stdout"
        }
      ]
    },
    {
      "cell_type": "code",
      "metadata": {
        "id": "HrfvVX2OVZqN"
      },
      "source": [
        "prepared_data = gensimvis.prepare(ldamodel, corpus, dictionary)"
      ],
      "execution_count": null,
      "outputs": []
    },
    {
      "cell_type": "code",
      "metadata": {
        "id": "Y__I7696UtKv"
      },
      "source": [
        "prepared_data_15 = gensimvis.prepare(ldamodel_15, corpus, dictionary)"
      ],
      "execution_count": null,
      "outputs": []
    },
    {
      "cell_type": "code",
      "metadata": {
        "id": "ItGzmjNSX9Ol"
      },
      "source": [
        "pyLDAvis.display(prepared_data_15)"
      ],
      "execution_count": null,
      "outputs": []
    },
    {
      "cell_type": "code",
      "metadata": {
        "id": "EBQtZ8VJYIsg"
      },
      "source": [
        "pyLDAvis.save_html(prepared_data, 'LDAvis15.html')"
      ],
      "execution_count": null,
      "outputs": []
    },
    {
      "cell_type": "code",
      "metadata": {
        "id": "IEKdn6wo_Kx5"
      },
      "source": [
        "# Topic 개수 19개\n",
        "b_ldamodel = gensim.models.ldamodel.LdaModel(b_corpus, num_topics=19, id2word = b_dictionary)\n",
        "\n",
        "b_ldamodel.print_topics(num_words=20)"
      ],
      "execution_count": null,
      "outputs": []
    },
    {
      "cell_type": "code",
      "metadata": {
        "id": "3i9AZby3aagN"
      },
      "source": [
        "prepared_data = gensimvis.prepare(b_ldamodel, b_corpus, b_dictionary)"
      ],
      "execution_count": null,
      "outputs": []
    },
    {
      "cell_type": "code",
      "metadata": {
        "id": "QYDq_XPncjYC"
      },
      "source": [
        "pyLDAvis.display(prepared_data)"
      ],
      "execution_count": null,
      "outputs": []
    },
    {
      "cell_type": "code",
      "metadata": {
        "id": "N3IemlxJchRu"
      },
      "source": [
        "pyLDAvis.save_html(prepared_data, 'LDAvis_b_19.html')"
      ],
      "execution_count": null,
      "outputs": []
    },
    {
      "cell_type": "code",
      "metadata": {
        "id": "CjgPMeKUo3Au"
      },
      "source": [
        "from google.colab import drive\n",
        "drive.mount('/content/drive')"
      ],
      "execution_count": null,
      "outputs": []
    }
  ]
}
