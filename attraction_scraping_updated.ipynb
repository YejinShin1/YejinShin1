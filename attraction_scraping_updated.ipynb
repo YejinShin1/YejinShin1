{
  "nbformat": 4,
  "nbformat_minor": 0,
  "metadata": {
    "kernelspec": {
      "display_name": "Python 3",
      "language": "python",
      "name": "python3"
    },
    "language_info": {
      "codemirror_mode": {
        "name": "ipython",
        "version": 3
      },
      "file_extension": ".py",
      "mimetype": "text/x-python",
      "name": "python",
      "nbconvert_exporter": "python",
      "pygments_lexer": "ipython3",
      "version": "3.7.4"
    },
    "colab": {
      "name": "attraction_scraping_updated.ipynb",
      "provenance": [],
      "include_colab_link": true
    }
  },
  "cells": [
    {
      "cell_type": "markdown",
      "metadata": {
        "id": "view-in-github",
        "colab_type": "text"
      },
      "source": [
        "<a href=\"https://colab.research.google.com/github/YejinShin1/god_yes_jeans/blob/master/attraction_scraping_updated.ipynb\" target=\"_parent\"><img src=\"https://colab.research.google.com/assets/colab-badge.svg\" alt=\"Open In Colab\"/></a>"
      ]
    },
    {
      "cell_type": "code",
      "metadata": {
        "scrolled": true,
        "id": "cfVOSNJqe1OM",
        "outputId": "87c37a08-314f-4fc0-8b16-b2b1e72f0e5c"
      },
      "source": [
        "import time\n",
        "import pandas as pd\n",
        "from selenium import webdriver\n",
        "from selenium.webdriver.common.by import By\n",
        "from selenium.webdriver.support.ui import WebDriverWait\n",
        "from selenium.webdriver.support import expected_conditions as EC\n",
        "import os\n",
        "\n",
        "\"\"\"텍스트파일에도 백업용으로 기록해 둘게요 - 위치는 편한대로.\"\"\"\n",
        "f=open(\"C:/Users/samsung/Desktop/Shinhan/crawling/reviews.txt\", \"a\", encoding=\"utf-8\")\n",
        "f.write(\"대전 리뷰---------------------------------\")\n",
        "data_list = []\n",
        "\n",
        "\"\"\"관광지 들어가서 마지막 리뷰가 있는 페이지 선택후 \n",
        "-Reviews url 중반부에 나오는 -Reviews-or###의 숫자를 그대로 두번째 변수로 넣어주세요\"\"\"\n",
        "\"\"\"예를 들어 https://www.tripadvisor.co.kr/Attraction_Review-g2024831-d2546638-Reviews-or120-Damyang_Juknokwon-Damyang_gun_Jeollanam_do.html#REVIEWS\n",
        "여기서는 120을 두번째로 작성하면 됩니다\"\"\"\n",
        "for i in range(0,15,5): #리뷰가 충분하면(300건 이상) 300으로 설정\n",
        "    print('Working on {}-{}'.format(i, i+5)) \n",
        "    \"\"\"전체 url링크를 두개로 쪼개서 url_str에 일부를 넣어주고(뒤에-or 추가), 나머지는 url_keyword에 넣어줄게요\"\"\"\n",
        "    \"\"\"링크에서 시작~숫자두세트~Reviews까지를 url_str에 넣어주시고 맨뒤에 -or는 그대로 두세요\"\"\"\n",
        "    url_str = \"https://www.tripadvisor.co.kr/Attraction_Review-g297887-d11543217-Reviews-or\"\n",
        "    url_num = str(i)\n",
        "    \n",
        "    \"\"\"링크에서 -장소명.html을 넣어주세요\"\"\"\n",
        "    url_keyword = \"-National_Science_Museum-Daejeon.html\" \n",
        "    \n",
        "    \"\"\"지역명을 입력해 주세요\"\"\"\n",
        "    지역 = \"대전\"\n",
        "    \"\"\"장소명을 입력해 주세요(관광지명)\"\"\"\n",
        "    loc = \"국립중앙과학관\"\n",
        "    total_url = url_str + url_num + url_keyword\n",
        "    \n",
        "    \"\"\"Chromedriver를 설치해 주시고 위치를 지정해 주세요\"\"\"\n",
        "    \"\"\"먼저 본인 크롬 버전 확인: https://www.whatismybrowser.com/detect/what-version-of-chrome-do-i-have\"\"\"\n",
        "    \"\"\"그에 맞는 크롭드라이버 다운로드: https://chromedriver.chromium.org/downloads\"\"\"\n",
        "    driver = webdriver.Chrome(\"C:/Users/samsung/Downloads/chromedriver_win32/chromedriver.exe\")\n",
        "    \n",
        "    driver.get(total_url) # 위에서 url을 지정해주었다\n",
        "    driver.implicitly_wait(3)\n",
        "    time.sleep(2)\n",
        "    \n",
        "    \"\"\"만약 리뷰 개수가 5개 미만이면 그 숫자를 아래 두번째 변수로 넣어주세요\"\"\"\n",
        "    for j in range(0,5,1): \n",
        "        \n",
        "\n",
        "        reviews = driver.find_elements_by_css_selector(\".Dq9MAugU.LnVzGwUB\")#\".div-review\")#\".review-container\")\n",
        "        rating_code = reviews[j].find_element_by_css_selector(\".ui_bubble_rating\")\n",
        "        cls_attr = rating_code.get_attribute(\"class\")\n",
        "        cls_attr = str(cls_attr).split(\"ui_bubble_rating bubble_\")\n",
        "        \n",
        "        score = int(cls_attr[1])\n",
        "        #print(score)\n",
        "        \n",
        "        if(j==0):\n",
        "            driver.implicitly_wait(5)\n",
        "            driver.find_elements_by_css_selector(\"._3maEfNCR\")[j].click() #._3maEfNCR #.ulBlueLinks\n",
        "            #time.sleep(2)\n",
        "        \n",
        "        Temp_review = reviews[j].find_element_by_css_selector(\".IRsGHoPm\").text#.partial_entry\").text#(\".partial_entry\").text\n",
        "        \n",
        "        review = Temp_review.replace(\"\\n\",\" \")\n",
        "        \n",
        "        f.write(\"평점:\"+str(score))\n",
        "        f.write(\"리뷰:\"+review)\n",
        "        f.write(\"\\n\")\n",
        "        data_list.append([지역, loc, score, review])\n",
        "    \n",
        "    driver.quit()\n",
        "    \n",
        "    \n",
        "data = pd.DataFrame(data_list, columns=['지역', 'loc','score', 'review'])\n",
        "\"\"\"파일위치만 변경해 주시면 될 것 같아요 편하신 곳으로 지정해 주세요 백슬래스(원) 표시 대신 /를 사용해 주세요\"\"\"\n",
        "folder_path = 'C:/Users/samsung/Desktop/Shinhan/crawling/data_'\n",
        "file_name='.csv'\n",
        "full_path= folder_path+지역+file_name\n",
        "data = pd.DataFrame(data_list, columns=['지역', 'loc','score', 'review'])\n",
        "data.to_csv(full_path, index=False, mode='w', encoding='utf-8-sig')\n",
        "\n",
        "f.close()\n",
        "driver.quit()\n",
        "print(\"---DONE---\")"
      ],
      "execution_count": null,
      "outputs": [
        {
          "output_type": "stream",
          "text": [
            "Working on 0-5\n",
            "Working on 5-10\n",
            "Working on 10-15\n",
            "---DONE---\n"
          ],
          "name": "stdout"
        }
      ]
    },
    {
      "cell_type": "code",
      "metadata": {
        "id": "x0omgio_e1OR"
      },
      "source": [
        ""
      ],
      "execution_count": null,
      "outputs": []
    }
  ]
}